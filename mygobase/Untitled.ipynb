{
 "cells": [
  {
   "cell_type": "code",
   "execution_count": 2,
   "id": "bbb4915e-a4c1-4bf0-8f30-f7689d0d4f6e",
   "metadata": {
    "execution": {
     "iopub.execute_input": "2025-02-03T12:13:07.419356Z",
     "iopub.status.busy": "2025-02-03T12:13:07.418628Z",
     "iopub.status.idle": "2025-02-03T12:13:07.860259Z",
     "shell.execute_reply": "2025-02-03T12:13:07.859913Z",
     "shell.execute_reply.started": "2025-02-03T12:13:07.419264Z"
    }
   },
   "outputs": [],
   "source": [
    "from mygobase.graph import MyGOKnowledgeGraph"
   ]
  },
  {
   "cell_type": "code",
   "execution_count": 10,
   "id": "0fc824c1-b45f-4a65-b44e-887aeb6dcdad",
   "metadata": {
    "execution": {
     "iopub.execute_input": "2025-02-03T12:23:08.975297Z",
     "iopub.status.busy": "2025-02-03T12:23:08.974524Z",
     "iopub.status.idle": "2025-02-03T12:23:09.005568Z",
     "shell.execute_reply": "2025-02-03T12:23:09.001742Z",
     "shell.execute_reply.started": "2025-02-03T12:23:08.975174Z"
    }
   },
   "outputs": [],
   "source": [
    "graph = MyGOKnowledgeGraph.from_db(\"../db/mygo.db\").graph"
   ]
  },
  {
   "cell_type": "code",
   "execution_count": 32,
   "id": "2878f163-e438-454c-bedc-0ff6273990bc",
   "metadata": {
    "execution": {
     "iopub.execute_input": "2025-02-03T12:35:44.017760Z",
     "iopub.status.busy": "2025-02-03T12:35:44.016912Z",
     "iopub.status.idle": "2025-02-03T12:35:44.022244Z",
     "shell.execute_reply": "2025-02-03T12:35:44.021348Z",
     "shell.execute_reply.started": "2025-02-03T12:35:44.017731Z"
    }
   },
   "outputs": [],
   "source": [
    "sub_graph = graph.subgraph([\"愛音\", \"爽世\", \"MyGO\"])"
   ]
  },
  {
   "cell_type": "code",
   "execution_count": 33,
   "id": "626e3f9b-76b1-45e7-b5ff-a9a42b24ca68",
   "metadata": {
    "execution": {
     "iopub.execute_input": "2025-02-03T12:35:44.300084Z",
     "iopub.status.busy": "2025-02-03T12:35:44.299770Z",
     "iopub.status.idle": "2025-02-03T12:35:44.303371Z",
     "shell.execute_reply": "2025-02-03T12:35:44.302822Z",
     "shell.execute_reply.started": "2025-02-03T12:35:44.300069Z"
    }
   },
   "outputs": [
    {
     "name": "stdout",
     "output_type": "stream",
     "text": [
      "('爽世', '爽世', {'relation': '自我介紹'})\n",
      "('爽世', '愛音', {'relation': '請求'})\n",
      "('爽世', '愛音', {'relation': '回應'})\n",
      "('爽世', '愛音', {'relation': '感謝'})\n",
      "('爽世', '愛音', {'relation': '問'})\n",
      "('爽世', '愛音', {'relation': '讚賞'})\n",
      "('爽世', '愛音', {'relation': '問'})\n",
      "('爽世', '愛音', {'relation': '安慰'})\n",
      "('爽世', '愛音', {'relation': '邀請'})\n",
      "('爽世', '愛音', {'relation': '拒絕'})\n",
      "('爽世', '愛音', {'relation': '質疑'})\n",
      "('愛音', '爽世', {'relation': '詢問'})\n",
      "('愛音', '爽世', {'relation': '感謝'})\n",
      "('愛音', '爽世', {'relation': '被邀請'})\n",
      "('愛音', '爽世', {'relation': '關注'})\n",
      "('愛音', '爽世', {'relation': '邀請'})\n",
      "('愛音', '爽世', {'relation': '發現'})\n",
      "('愛音', '爽世', {'relation': '理解'})\n",
      "('愛音', '爽世', {'relation': '詢問'})\n",
      "('愛音', '爽世', {'relation': '歡迎'})\n",
      "('愛音', '爽世', {'relation': '請求體諒'})\n",
      "('愛音', '愛音', {'relation': '自我介紹'})\n",
      "('愛音', '愛音', {'relation': '提醒遲到'})\n"
     ]
    }
   ],
   "source": [
    "for e in sub_graph.edges(data=True):\n",
    "    print(e)"
   ]
  },
  {
   "cell_type": "code",
   "execution_count": null,
   "id": "8176204f-6e3f-4091-b592-deb17527287e",
   "metadata": {},
   "outputs": [],
   "source": []
  }
 ],
 "metadata": {
  "kernelspec": {
   "display_name": "Python 3 (ipykernel)",
   "language": "python",
   "name": "python3"
  },
  "language_info": {
   "codemirror_mode": {
    "name": "ipython",
    "version": 3
   },
   "file_extension": ".py",
   "mimetype": "text/x-python",
   "name": "python",
   "nbconvert_exporter": "python",
   "pygments_lexer": "ipython3",
   "version": "3.13.1"
  }
 },
 "nbformat": 4,
 "nbformat_minor": 5
}
