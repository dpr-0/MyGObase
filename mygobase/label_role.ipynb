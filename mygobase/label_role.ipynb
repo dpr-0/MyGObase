{
 "cells": [
  {
   "cell_type": "markdown",
   "id": "f2688d3a-f47f-4d45-93d5-5daaa18911b6",
   "metadata": {},
   "source": [
    "#\n"
   ]
  },
  {
   "cell_type": "code",
   "execution_count": 1,
   "id": "556978de-8fc8-4d45-aa63-ffba9ef66ab5",
   "metadata": {
    "execution": {
     "iopub.execute_input": "2025-01-31T16:14:50.297727Z",
     "iopub.status.busy": "2025-01-31T16:14:50.297014Z",
     "iopub.status.idle": "2025-01-31T16:14:50.713360Z",
     "shell.execute_reply": "2025-01-31T16:14:50.713040Z",
     "shell.execute_reply.started": "2025-01-31T16:14:50.297677Z"
    }
   },
   "outputs": [],
   "source": [
    "import sqlite3\n",
    "from dataclasses import dataclass\n",
    "from io import BytesIO\n",
    "from typing import Iterator\n",
    "\n",
    "from PIL import Image\n",
    "from IPython.display import display, clear_output\n",
    "from tqdm import tqdm"
   ]
  },
  {
   "cell_type": "code",
   "execution_count": 2,
   "id": "086d71ef-6da2-4d38-b02e-91e1910a48cb",
   "metadata": {
    "execution": {
     "iopub.execute_input": "2025-01-31T16:14:50.836456Z",
     "iopub.status.busy": "2025-01-31T16:14:50.836011Z",
     "iopub.status.idle": "2025-01-31T16:14:50.841458Z",
     "shell.execute_reply": "2025-01-31T16:14:50.840724Z",
     "shell.execute_reply.started": "2025-01-31T16:14:50.836431Z"
    }
   },
   "outputs": [],
   "source": [
    "@dataclass\n",
    "class Storyboard:\n",
    "    id: int\n",
    "    episode: int\n",
    "    frame_number: int\n",
    "    subtitle: str\n",
    "    picture: bytes\n",
    "    role: str | None\n",
    "\n",
    "\n",
    "def namedtuple_factory(cursor, row):\n",
    "    return Storyboard(*row)\n",
    "\n",
    "\n",
    "def db_data() -> Iterator[Storyboard]:\n",
    "    try:\n",
    "        with sqlite3.connect(\"../db/mygo.db\") as conn:\n",
    "            conn.row_factory = namedtuple_factory\n",
    "            cursor = conn.cursor()\n",
    "            res = cursor.execute(\"\"\"\n",
    "                            SELECT \n",
    "                                id,\n",
    "                                episode,\n",
    "                                frame_number,\n",
    "                                subtitle,\n",
    "                                picture,\n",
    "                                role\n",
    "                            FROM \n",
    "                                storyboards\n",
    "                            WHERE\n",
    "                                role IS NULL\n",
    "                            ORDER BY \n",
    "                                episode, \n",
    "                                frame_number\n",
    "                        \"\"\").fetchall()\n",
    "            conn.commit()\n",
    "            for i in res:\n",
    "                yield i\n",
    "    except sqlite3.OperationalError as e:\n",
    "        print(\"Failed to open database:\", e)"
   ]
  },
  {
   "cell_type": "code",
   "execution_count": 3,
   "id": "5713a4b1-8f90-44a4-9ea4-be5654a5ac80",
   "metadata": {
    "execution": {
     "iopub.execute_input": "2025-01-31T16:14:51.272852Z",
     "iopub.status.busy": "2025-01-31T16:14:51.272314Z",
     "iopub.status.idle": "2025-01-31T16:14:51.278163Z",
     "shell.execute_reply": "2025-01-31T16:14:51.277269Z",
     "shell.execute_reply.started": "2025-01-31T16:14:51.272817Z"
    }
   },
   "outputs": [],
   "source": [
    "def count_remain():\n",
    "    try:\n",
    "        with sqlite3.connect(\"../db/mygo.db\") as conn:\n",
    "            cursor = conn.cursor()\n",
    "            res = cursor.execute(\"\"\"\n",
    "                            SELECT \n",
    "                                COUNT(*)\n",
    "                            FROM \n",
    "                                storyboards\n",
    "                            WHERE\n",
    "                                role IS NULL\n",
    "                        \"\"\")\n",
    "            return res.fetchone()[0]\n",
    "    except sqlite3.OperationalError as e:\n",
    "        print(\"Failed to open database:\", e)\n",
    "    return 0"
   ]
  },
  {
   "cell_type": "code",
   "execution_count": 4,
   "id": "8532817d-cb3c-49b0-adeb-b1675f26cd03",
   "metadata": {
    "execution": {
     "iopub.execute_input": "2025-01-31T16:14:52.528550Z",
     "iopub.status.busy": "2025-01-31T16:14:52.528147Z",
     "iopub.status.idle": "2025-01-31T16:14:52.533451Z",
     "shell.execute_reply": "2025-01-31T16:14:52.532810Z",
     "shell.execute_reply.started": "2025-01-31T16:14:52.528523Z"
    }
   },
   "outputs": [],
   "source": [
    "def update(i: int, role: str):\n",
    "    try:\n",
    "        with sqlite3.connect(\"../db/mygo.db\") as conn:\n",
    "            cursor = conn.cursor()\n",
    "            cursor.execute(\n",
    "                \"\"\"\n",
    "                            UPDATE storyboards\n",
    "                            SET role = ?\n",
    "                            WHERE id = ?\n",
    "                        \"\"\",\n",
    "                (role, i),\n",
    "            )\n",
    "            conn.commit()\n",
    "    except sqlite3.OperationalError as e:\n",
    "        print(\"Failed to open database:\", e)"
   ]
  },
  {
   "cell_type": "code",
   "execution_count": 8,
   "id": "51e9bd5e-bf8c-4a2e-91b2-703a035afadf",
   "metadata": {
    "execution": {
     "iopub.execute_input": "2025-01-31T16:44:19.925331Z",
     "iopub.status.busy": "2025-01-31T16:44:19.924792Z",
     "iopub.status.idle": "2025-01-31T16:44:19.946657Z",
     "shell.execute_reply": "2025-01-31T16:44:19.946135Z",
     "shell.execute_reply.started": "2025-01-31T16:44:19.925297Z"
    }
   },
   "outputs": [
    {
     "name": "stderr",
     "output_type": "stream",
     "text": [
      "  0%|                                                                                                                                                                                        | 0/3946 [00:00<?, ?it/s]\n"
     ]
    }
   ],
   "source": [
    "cnt = count_remain()\n",
    "with tqdm(total=3946) as pbar:\n",
    "    for sb in db_data():\n",
    "        clear_output(wait=True)\n",
    "        img = Image.open(BytesIO(sb.picture)).resize((480, 270))\n",
    "        display(img)\n",
    "        print(f\"                   {sb.subtitle}\")\n",
    "        res = input(\"\"\"\n",
    "        Q 立希 W 其他 E 初華 R 爽媽 T 海鈴 Y 喵夢 U 樂奈奶奶\n",
    "        A 祥子 S 爽世 D 愛音 F 燈 G 樂奈 H 睦\n",
    "        \"\"\")\n",
    "        match res:\n",
    "            case \"a\":\n",
    "                role = \"祥子\"\n",
    "            case \"s\":\n",
    "                role = \"爽世\"\n",
    "            case \"d\":\n",
    "                role = \"愛音\"\n",
    "            case \"f\":\n",
    "                role = \"燈\"\n",
    "            case \"g\":\n",
    "                role = \"樂奈\"\n",
    "            case \"h\":\n",
    "                role = \"睦\"\n",
    "            case \"q\":\n",
    "                role = \"立希\"\n",
    "            case \"e\":\n",
    "                role = \"初華\"\n",
    "            case \"r\":\n",
    "                role = \"爽世媽\"\n",
    "            case \"t\":\n",
    "                role = \"海鈴\"\n",
    "            case \"y\":\n",
    "                role = \"喵夢\"\n",
    "            case \"u\":\n",
    "                role = \"樂奈奶奶\"\n",
    "            case \"w\":\n",
    "                role = \"其他\"\n",
    "\n",
    "        update(sb.id, role)\n",
    "        cnt += 1\n",
    "        pbar.update(cnt)"
   ]
  },
  {
   "cell_type": "code",
   "execution_count": null,
   "id": "f59c2465-b27e-437d-be9c-60d000fd5c69",
   "metadata": {},
   "outputs": [],
   "source": []
  }
 ],
 "metadata": {
  "kernelspec": {
   "display_name": "mygobase-bZb6EiN6-py3.12",
   "language": "python",
   "name": "python3"
  },
  "language_info": {
   "codemirror_mode": {
    "name": "ipython",
    "version": 3
   },
   "file_extension": ".py",
   "mimetype": "text/x-python",
   "name": "python",
   "nbconvert_exporter": "python",
   "pygments_lexer": "ipython3",
   "version": "3.12.8"
  }
 },
 "nbformat": 4,
 "nbformat_minor": 5
}
